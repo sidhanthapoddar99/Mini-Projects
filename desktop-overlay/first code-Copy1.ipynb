{
 "cells": [
  {
   "cell_type": "code",
   "execution_count": 5,
   "metadata": {},
   "outputs": [
    {
     "name": "stdout",
     "output_type": "stream",
     "text": [
      "Collecting pillow\n",
      "  Downloading Pillow-7.1.1-cp37-cp37m-win_amd64.whl (2.0 MB)\n",
      "Installing collected packages: pillow\n",
      "Successfully installed pillow-7.1.1\n"
     ]
    }
   ],
   "source": [
    "!pip install pillow"
   ]
  },
  {
   "cell_type": "code",
   "execution_count": 6,
   "metadata": {},
   "outputs": [],
   "source": [
    "from PIL import Image"
   ]
  },
  {
   "cell_type": "code",
   "execution_count": 26,
   "metadata": {},
   "outputs": [],
   "source": [
    "def test(path):\n",
    "    im = Image.open(path)\n",
    "    if im.mode != 'RGBA':\n",
    "        im = im.convert('RGBA')\n",
    "    width, height = im.size\n",
    "    gradient = Image.new('L', (width, 1), color=0xFF)\n",
    "    for x in range(width):\n",
    "        damping=85-x\n",
    "        if damping<0:\n",
    "            damping=0\n",
    "        gradient.putpixel((x, 0), 95+damping)\n",
    "    alpha = gradient.resize(im.size)\n",
    "    black_im = Image.new('RGBA', (width, height), color=0) # i.e. black\n",
    "    black_im.putalpha(alpha)\n",
    "    gradient_im = Image.alpha_composite(im, black_im)\n",
    "    gradient_im.save('outd.png', 'PNG')"
   ]
  },
  {
   "cell_type": "code",
   "execution_count": 8,
   "metadata": {},
   "outputs": [],
   "source": [
    "im = Image.open(\"x.jpg\")"
   ]
  },
  {
   "cell_type": "code",
   "execution_count": 27,
   "metadata": {},
   "outputs": [],
   "source": [
    "test(\"x.jpg\")"
   ]
  },
  {
   "cell_type": "code",
   "execution_count": null,
   "metadata": {},
   "outputs": [],
   "source": []
  }
 ],
 "metadata": {
  "kernelspec": {
   "display_name": "Python 3",
   "language": "python",
   "name": "python3"
  },
  "language_info": {
   "codemirror_mode": {
    "name": "ipython",
    "version": 3
   },
   "file_extension": ".py",
   "mimetype": "text/x-python",
   "name": "python",
   "nbconvert_exporter": "python",
   "pygments_lexer": "ipython3",
   "version": "3.7.7"
  }
 },
 "nbformat": 4,
 "nbformat_minor": 4
}
