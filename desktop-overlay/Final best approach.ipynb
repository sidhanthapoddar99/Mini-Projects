{
 "cells": [
  {
   "cell_type": "code",
   "execution_count": 5,
   "metadata": {},
   "outputs": [],
   "source": [
    "from PIL import Image\n",
    "import os\n",
    "from glob import glob"
   ]
  },
  {
   "cell_type": "code",
   "execution_count": 11,
   "metadata": {},
   "outputs": [],
   "source": [
    "def test(path,save):\n",
    "    im = Image.open(path)\n",
    "    if im.mode != 'RGBA':\n",
    "        im = im.convert('RGBA')\n",
    "    width, height = im.size\n",
    "    gradient = Image.new('L', (width, 1), color=0xFF)\n",
    "    \n",
    "    for x in range(width):\n",
    "        damping=int(80*x/width)\n",
    "        gradient.putpixel((x, 0), 75+damping)\n",
    "        \n",
    "    alpha = gradient.resize(im.size)\n",
    "    black_im = Image.new('RGBA', (width, height), color=0) # i.e. black\n",
    "    black_im.putalpha(alpha)\n",
    "    gradient_im = Image.alpha_composite(im, black_im)\n",
    "    gradient_im.save(\"./TO2/\"+str(save)+\".png\", 'PNG')"
   ]
  },
  {
   "cell_type": "code",
   "execution_count": 12,
   "metadata": {},
   "outputs": [],
   "source": [
    "path = os.path.join(\"./TO SET\", '*.jpg')"
   ]
  },
  {
   "cell_type": "code",
   "execution_count": 13,
   "metadata": {},
   "outputs": [
    {
     "name": "stdout",
     "output_type": "stream",
     "text": [
      "0   ./TO SET\\abstract-7680x4320-ink-8k-21285.jpg\n",
      "1   ./TO SET\\alabama-hills-5120x2880-5k-4k-wallpaper-california-us-mountains-sky-4887.jpg\n",
      "2   ./TO SET\\anders-jilden-cYrMQA7a3Wc-unsplash.jpg\n",
      "3   ./TO SET\\canada-3840x2160-4k-5k-wallpaper-mountains-sky-night-6518.jpg\n",
      "4   ./TO SET\\crotaphytus-collaris-3840x2160-mexico-lizard-colorful-stone-nature-1243.jpg\n",
      "5   ./TO SET\\crotaphytus-collaris-3840x2160-mexico-lizard-colorful-stone-nature-1339.jpg\n",
      "6   ./TO SET\\golden-eagle-5120x2880-mexico-bird-animal-nature-wings-brown-green-1349.jpg\n",
      "7   ./TO SET\\iceland-5120x2880-4k-5k-wallpaper-mountains-river-clouds-6295.jpg\n",
      "8   ./TO SET\\iguana-3840x2160-lizard-cute-animals-4670.jpg\n",
      "9   ./TO SET\\iguana-3840x2160-puerto-rico-reptiles-green-nature-lizard-animal-1350.jpg\n",
      "10   ./TO SET\\johannes-plenio-tNd8VXPjq0Q-unsplash.jpg\n",
      "11   ./TO SET\\karsten-wurth-YNdEOtbwCKw-unsplash.jpg\n",
      "12   ./TO SET\\kevin-mueller-mk4OlJVYtuo-unsplash.jpg\n",
      "13   ./TO SET\\macos-catalina-5120x2880-day-mountains-wwdc-2019-5k-21590 (1).jpg\n",
      "14   ./TO SET\\macos-catalina-5120x2880-night-mountains-wwdc-2019-5k-21589.jpg\n",
      "15   ./TO SET\\mountains-3840x2160-5k-4k-wallpaper-ocean-forest-12608.jpg\n",
      "16   ./TO SET\\national-geographic-2560x1440-4k-hd-wallpaper-owl-funny-149.jpg\n",
      "17   ./TO SET\\norway-5120x2880-lofoten-islands-europe-mountains-sea-sunrise-5k-16595.jpg\n",
      "18   ./TO SET\\orangutan-5120x2880-borneo-malaysia-wildlife-national-geographic-8553.jpg\n",
      "19   ./TO SET\\park_autumn_trees_117202_3840x2160.jpg\n",
      "20   ./TO SET\\photo-1477346611705-65d1883cee1e.jpg\n",
      "21   ./TO SET\\photo-1502657877623-f66bf489d236.jpg\n",
      "22   ./TO SET\\photo-1528298846924-5119985beb1b.jpg\n",
      "23   ./TO SET\\photo-1528757363859-928d28f50a09.jpg\n",
      "24   ./TO SET\\photo-1539447322629-4100721554cd.jpg\n",
      "25   ./TO SET\\pier_sunset_sea_123438_3840x2160.jpg\n",
      "26   ./TO SET\\sea-3840x2160-ocean-waves-4k-5k-13533.jpg\n",
      "27   ./TO SET\\stanton-moor-5120x2880-5k-4k-wallpaper-8k-peak-district-uk-forest-5363.jpg\n",
      "28   ./TO SET\\sunset-5120x2880-forest-mountains-6k-19833.jpg\n",
      "29   ./TO SET\\tarsier-2560x1440-philippines-wildlife-national-geographic-traveler-8559.jpg\n",
      "30   ./TO SET\\trees-3840x2160-light-orange-forest-sunset-4k-19800.jpg\n",
      "31   ./TO SET\\vivo-nex-3-3840x2160-colorful-android-10-abstract-4k-22416.jpg\n",
      "32   ./TO SET\\yosemite-5120x2880-5k-4k-wallpaper-8k-forest-osx-apple-mountains-172.jpg\n"
     ]
    }
   ],
   "source": [
    "x=0\n",
    "for image_path in glob(path):\n",
    "    print(x,\" \",image_path)\n",
    "    x+=1\n",
    "    test(image_path,x)"
   ]
  },
  {
   "cell_type": "code",
   "execution_count": 8,
   "metadata": {},
   "outputs": [],
   "source": [
    "im = Image.open(\"x.jpg\")"
   ]
  },
  {
   "cell_type": "code",
   "execution_count": 44,
   "metadata": {},
   "outputs": [],
   "source": [
    "test(\"x.jpg\")"
   ]
  },
  {
   "cell_type": "code",
   "execution_count": null,
   "metadata": {},
   "outputs": [],
   "source": []
  }
 ],
 "metadata": {
  "kernelspec": {
   "display_name": "Python 3",
   "language": "python",
   "name": "python3"
  },
  "language_info": {
   "codemirror_mode": {
    "name": "ipython",
    "version": 3
   },
   "file_extension": ".py",
   "mimetype": "text/x-python",
   "name": "python",
   "nbconvert_exporter": "python",
   "pygments_lexer": "ipython3",
   "version": "3.7.7"
  }
 },
 "nbformat": 4,
 "nbformat_minor": 4
}
